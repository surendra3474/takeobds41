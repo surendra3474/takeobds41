{
  "nbformat": 4,
  "nbformat_minor": 0,
  "metadata": {
    "colab": {
      "provenance": [],
      "authorship_tag": "ABX9TyO1LePo9kPLjWwgmEUR8U0C",
      "include_colab_link": true
    },
    "kernelspec": {
      "name": "python3",
      "display_name": "Python 3"
    },
    "language_info": {
      "name": "python"
    }
  },
  "cells": [
    {
      "cell_type": "markdown",
      "metadata": {
        "id": "view-in-github",
        "colab_type": "text"
      },
      "source": [
        "<a href=\"https://colab.research.google.com/github/surendra3474/takeobds41/blob/main/December_26.ipynb\" target=\"_parent\"><img src=\"https://colab.research.google.com/assets/colab-badge.svg\" alt=\"Open In Colab\"/></a>"
      ]
    },
    {
      "cell_type": "code",
      "execution_count": 11,
      "metadata": {
        "id": "9PAJdDZLDjlN",
        "colab": {
          "base_uri": "https://localhost:8080/",
          "height": 140
        },
        "outputId": "951a21fc-c941-481a-aeb2-df801d6803d3"
      },
      "outputs": [
        {
          "output_type": "error",
          "ename": "SyntaxError",
          "evalue": "ignored",
          "traceback": [
            "\u001b[0;36m  File \u001b[0;32m\"<ipython-input-11-c8069128fcb2>\"\u001b[0;36m, line \u001b[0;32m2\u001b[0m\n\u001b[0;31m    def__init__(self,brand, color, year,weight,ram,space):\u001b[0m\n\u001b[0m                                                         ^\u001b[0m\n\u001b[0;31mSyntaxError\u001b[0m\u001b[0;31m:\u001b[0m invalid syntax\n"
          ]
        }
      ],
      "source": [
        "class computer:\n",
        "    def__init__(self,brand, color, year,weight,ram,space):\n",
        "        self.brand = brand\n",
        "        self.color = color\n",
        "        self.year = year\n",
        "        self. weight = weight\n",
        "        self.ram = ram\n",
        "        self.space = space\n",
        "    def display_details(self):\n",
        "        print(self.brand,self.name,self.year,self.weight,self.ram, self.space)\n",
        "\n",
        "        class laptop(computer):\n",
        "            pass\n"
      ]
    },
    {
      "cell_type": "code",
      "source": [
        "ojb_child1=child( 'apple','silver',2023,2lb,126GB,3GB)"
      ],
      "metadata": {
        "id": "IqYBIsx3KVCS"
      },
      "execution_count": null,
      "outputs": []
    },
    {
      "cell_type": "code",
      "source": [
        "obj_child1.display_details()"
      ],
      "metadata": {
        "id": "JD8S44VVMVw8"
      },
      "execution_count": null,
      "outputs": []
    },
    {
      "cell_type": "code",
      "source": [
        "class Parent:\n",
        "    def __init__(self,firstname, lname):\n",
        "        self.firstname = firstname\n",
        "        self.lname = lname\n",
        "    def display_details(self):\n",
        "        print(self.firstname, self.lname)"
      ],
      "metadata": {
        "id": "dQMuOH44MekD"
      },
      "execution_count": 50,
      "outputs": []
    },
    {
      "cell_type": "code",
      "source": [
        "class Child(Parent):\n",
        "    def __init__(self, firstname, lname):\n",
        "        Parent.__init__(self, firstname, firstname)"
      ],
      "metadata": {
        "id": "W4buUGCEMl1L"
      },
      "execution_count": 51,
      "outputs": []
    },
    {
      "cell_type": "code",
      "source": [
        "obj_child2 = Child('Surendra','Karki')"
      ],
      "metadata": {
        "id": "wV5cPwY7Mn3M"
      },
      "execution_count": 56,
      "outputs": []
    },
    {
      "cell_type": "code",
      "source": [
        "obj_child2.display_details()"
      ],
      "metadata": {
        "colab": {
          "base_uri": "https://localhost:8080/"
        },
        "id": "IDbBsqikMtQn",
        "outputId": "6be4e097-a1b6-439b-8d6a-06d5cb2ebd27"
      },
      "execution_count": 54,
      "outputs": [
        {
          "output_type": "stream",
          "name": "stdout",
          "text": [
            "Surendra Surendra\n"
          ]
        }
      ]
    },
    {
      "cell_type": "code",
      "source": [
        "class Child(Parent):\n",
        "    def __init__(self, name, lname):\n",
        "        super().__init__(self, firstname, lname)"
      ],
      "metadata": {
        "id": "3jcDTi6bMuJ3"
      },
      "execution_count": 57,
      "outputs": []
    }
  ]
}