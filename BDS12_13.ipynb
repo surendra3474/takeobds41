{
  "nbformat": 4,
  "nbformat_minor": 0,
  "metadata": {
    "colab": {
      "provenance": [],
      "authorship_tag": "ABX9TyMhEsXjxxvnEbu6uxazlGNz",
      "include_colab_link": true
    },
    "kernelspec": {
      "name": "python3",
      "display_name": "Python 3"
    },
    "language_info": {
      "name": "python"
    }
  },
  "cells": [
    {
      "cell_type": "markdown",
      "metadata": {
        "id": "view-in-github",
        "colab_type": "text"
      },
      "source": [
        "<a href=\"https://colab.research.google.com/github/surendra3474/takeobds41/blob/main/BDS12_13.ipynb\" target=\"_parent\"><img src=\"https://colab.research.google.com/assets/colab-badge.svg\" alt=\"Open In Colab\"/></a>"
      ]
    },
    {
      "cell_type": "code",
      "execution_count": null,
      "metadata": {
        "id": "ist5XFgQ4X58"
      },
      "outputs": [],
      "source": [
        "*args\n",
        "\n",
        "In Python, *args is used to pass a variable number of positional arguments to a function. The *args parameter allows a function to accept any number of positional arguments, which are then treated as a tuple within the function.\n",
        "\n",
        "Here's a basic example:\n",
        "\n",
        "def my_function(*args):\n",
        "    for arg in args:\n",
        "        print(arg)\n",
        "\n",
        "my_function('Hello', 'World', 'Python')\n",
        "In this example, *args collects all the positional arguments passed to my_function into a tuple named args. The function then iterates through this tuple and prints each argument.\n",
        "\n",
        "You can use any name instead of args, but the * before the parameter name is what allows it to accept multiple positional arguments.\n",
        "\n",
        "It's important to note that *args must be placed as the last positional parameter in the function definition. This is because it collects all remaining positional arguments.\n",
        "\n",
        "Here's an example where *args is used along with other regular parameters:\n",
        "\n",
        "def my_function(name, *args):\n",
        "    print(\"Name:\", name)\n",
        "    for arg in args:\n",
        "        print(\"Additional argument:\", arg)\n",
        "\n",
        "my_function('Alice', 'Hello', 'World', 'Python')\n",
        "In this case, the first argument (name) is assigned to the parameter name, and the rest of the arguments are collected into the args tuple.\n",
        "\n",
        "Using *args provides flexibility when you're unsure about the number of arguments that will be passed to a function, allowing you to handle a variable number of arguments without explicitly defining them in the function signature.\n"
      ]
    },
    {
      "cell_type": "markdown",
      "source": [
        "kwargs functions"
      ],
      "metadata": {
        "id": "vuQVFo3y4aW_"
      }
    },
    {
      "cell_type": "code",
      "source": [
        "def my_args1(*mohan):\n",
        "    return mohan\n"
      ],
      "metadata": {
        "id": "uFef1xpe4jz2"
      },
      "execution_count": null,
      "outputs": []
    },
    {
      "cell_type": "code",
      "source": [
        "my_args1(12,-23,34.45,-45.56,12+23j,-32-43j,True,False,'Python','programming')"
      ],
      "metadata": {
        "colab": {
          "base_uri": "https://localhost:8080/"
        },
        "id": "_X9047VQ5blI",
        "outputId": "d60e917e-e08f-478d-d5b6-2fb5ce1d8278"
      },
      "execution_count": null,
      "outputs": [
        {
          "output_type": "execute_result",
          "data": {
            "text/plain": [
              "(12,\n",
              " -23,\n",
              " 34.45,\n",
              " -45.56,\n",
              " (12+23j),\n",
              " (-32-43j),\n",
              " True,\n",
              " False,\n",
              " 'Python',\n",
              " 'programming')"
            ]
          },
          "metadata": {},
          "execution_count": 14
        }
      ]
    },
    {
      "cell_type": "code",
      "source": [
        "def my_kwargs(**surendra):\n",
        "    return surendra"
      ],
      "metadata": {
        "id": "jESBVQ0I7P6n"
      },
      "execution_count": null,
      "outputs": []
    },
    {
      "cell_type": "code",
      "source": [
        "my_kwargs(a= 12,\n",
        "b= -23,\n",
        "c= 34.45,\n",
        "d= -45.56,\n",
        "e= (12+23j),\n",
        "f= (-32-43j),\n",
        "g= True,\n",
        "h= False,\n",
        "i= 'Python',\n",
        "j= 'learning',\n",
        "k= [1, 2, 3, 4, 5],\n",
        "l= (12, 23, 34, 45, 56),\n",
        "m= {1, 2, 3, 4, 5, 6, 7, 8, 9, 10, 11},\n",
        "n= {'a': 'apple', 'b': 'ball', 'c': 'cat', 'd': 'dog'},\n",
        "a1= 12,\n",
        "b1= -23,\n",
        "c1= 34.45,\n",
        "d1= -45.56,\n",
        "e1= (12+23j),\n",
        "f1= (-32-43j),\n",
        "g1= True,\n",
        "h1= False,\n",
        "k1= [1, 2, 3, 4, 5],\n",
        "l1= (12, 23, 34, 45, 56),\n",
        "m1= {1, 2, 3, 4, 5, 6, 7, 8, 9, 10, 11},\n",
        "n1= {'a': 'apple', 'b': 'ball', 'c': 'cat', 'd': 'dog'})\n"
      ],
      "metadata": {
        "colab": {
          "base_uri": "https://localhost:8080/"
        },
        "id": "eNhvaHUq7Pqs",
        "outputId": "0868cb04-7c36-49c0-f442-810eee74afb2"
      },
      "execution_count": null,
      "outputs": [
        {
          "output_type": "execute_result",
          "data": {
            "text/plain": [
              "{'a': 12,\n",
              " 'b': -23,\n",
              " 'c': 34.45,\n",
              " 'd': -45.56,\n",
              " 'e': (12+23j),\n",
              " 'f': (-32-43j),\n",
              " 'g': True,\n",
              " 'h': False,\n",
              " 'i': 'Python',\n",
              " 'j': 'learning',\n",
              " 'k': [1, 2, 3, 4, 5],\n",
              " 'l': (12, 23, 34, 45, 56),\n",
              " 'm': {1, 2, 3, 4, 5, 6, 7, 8, 9, 10, 11},\n",
              " 'n': {'a': 'apple', 'b': 'ball', 'c': 'cat', 'd': 'dog'},\n",
              " 'a1': 12,\n",
              " 'b1': -23,\n",
              " 'c1': 34.45,\n",
              " 'd1': -45.56,\n",
              " 'e1': (12+23j),\n",
              " 'f1': (-32-43j),\n",
              " 'g1': True,\n",
              " 'h1': False,\n",
              " 'k1': [1, 2, 3, 4, 5],\n",
              " 'l1': (12, 23, 34, 45, 56),\n",
              " 'm1': {1, 2, 3, 4, 5, 6, 7, 8, 9, 10, 11},\n",
              " 'n1': {'a': 'apple', 'b': 'ball', 'c': 'cat', 'd': 'dog'}}"
            ]
          },
          "metadata": {},
          "execution_count": 23
        }
      ]
    },
    {
      "cell_type": "markdown",
      "source": [
        "  #write a program and include normal parameter, *args,**kwargs"
      ],
      "metadata": {
        "id": "WQ43dvFQ-OUO"
      }
    },
    {
      "cell_type": "code",
      "source": [
        "def my_new_arg_func1(*dates, **kiwis, apple, banana, cherries):\n",
        "    return dates, kiwis, apple, banana, cherries"
      ],
      "metadata": {
        "colab": {
          "base_uri": "https://localhost:8080/",
          "height": 140
        },
        "id": "5rl5ICqC97Xu",
        "outputId": "fb116d06-2341-4793-e248-12113c172cdb"
      },
      "execution_count": null,
      "outputs": [
        {
          "output_type": "error",
          "ename": "SyntaxError",
          "evalue": "ignored",
          "traceback": [
            "\u001b[0;36m  File \u001b[0;32m\"<ipython-input-27-fff025caab6f>\"\u001b[0;36m, line \u001b[0;32m1\u001b[0m\n\u001b[0;31m    def my_new_arg_func1(*dates, **kiwis, apple, banana, cherries):\u001b[0m\n\u001b[0m                                          ^\u001b[0m\n\u001b[0;31mSyntaxError\u001b[0m\u001b[0;31m:\u001b[0m invalid syntax\n"
          ]
        }
      ]
    },
    {
      "cell_type": "code",
      "source": [
        "def my_new_arg_func1(*dates, **kiwis, apple, banana, cherries):\n",
        "    return dates, kiwis, apple, banana, cherries"
      ],
      "metadata": {
        "id": "ImakIBplB581"
      },
      "execution_count": null,
      "outputs": []
    },
    {
      "cell_type": "code",
      "source": [
        "def my_new_arg_func1(apple, banana, cherries, *dates, **kiwis):\n",
        "    return apple, banana, cherries, dates, kiwis"
      ],
      "metadata": {
        "id": "kkFSSH08-57G"
      },
      "execution_count": null,
      "outputs": []
    },
    {
      "cell_type": "code",
      "source": [
        "my_new_arg_func1('greenapple','yellowbanana','redcherries')"
      ],
      "metadata": {
        "colab": {
          "base_uri": "https://localhost:8080/"
        },
        "id": "J6fNuOm0CjIg",
        "outputId": "59da4806-7c54-4f72-e09f-3be96fda2a12"
      },
      "execution_count": null,
      "outputs": [
        {
          "output_type": "execute_result",
          "data": {
            "text/plain": [
              "('greenapple', 'yellowbanana', 'redcherries', (), {})"
            ]
          },
          "metadata": {},
          "execution_count": 50
        }
      ]
    },
    {
      "cell_type": "code",
      "source": [
        "my_new_arg_func1('greenapple','yellowbanana','redcherries','pineapple','jackfruit')"
      ],
      "metadata": {
        "colab": {
          "base_uri": "https://localhost:8080/"
        },
        "id": "8zQrNngZCqP2",
        "outputId": "e9a04853-38fe-4778-ecdd-fece5085cf12"
      },
      "execution_count": null,
      "outputs": [
        {
          "output_type": "execute_result",
          "data": {
            "text/plain": [
              "('greenapple', 'yellowbanana', 'redcherries', ('pineapple', 'jackfruit'), {})"
            ]
          },
          "metadata": {},
          "execution_count": 52
        }
      ]
    },
    {
      "cell_type": "code",
      "source": [
        "my_new_arg_func1('greenapple','yellowbanana','redcherries','pineapple','jackfruit',name='suren',address='texas',age=36)"
      ],
      "metadata": {
        "colab": {
          "base_uri": "https://localhost:8080/"
        },
        "id": "XNoW1me6DJiy",
        "outputId": "514db725-a7ad-4443-bdf1-c935b4e148ed"
      },
      "execution_count": null,
      "outputs": [
        {
          "output_type": "execute_result",
          "data": {
            "text/plain": [
              "('greenapple',\n",
              " 'yellowbanana',\n",
              " 'redcherries',\n",
              " ('pineapple', 'jackfruit'),\n",
              " {'name': 'suren', 'address': 'texas', 'age': 36})"
            ]
          },
          "metadata": {},
          "execution_count": 53
        }
      ]
    },
    {
      "cell_type": "markdown",
      "source": [
        "Lamda Function\n"
      ],
      "metadata": {
        "id": "W1h9cC4nOF71"
      }
    },
    {
      "cell_type": "code",
      "source": [
        "Lambda functions in Python are anonymous, small, and typically one-liner functions that can take any number of arguments\n",
        "but can only have one expression. They are defined using the lambda keyword. Here's a basic example:\n",
        "\n",
        "# Regular function\n",
        "def add(a, b):\n",
        "    return a + b\n",
        "\n",
        "# Equivalent lambda function\n",
        "add_lambda = lambda a, b: a + b\n",
        "\n",
        "# Using the lambda function\n",
        "result = add_lambda(3, 5)\n",
        "print(result)  # Output will be 8\n",
        "Lambda functions are often used in situations where you need a small function for a short period and\n",
        "don't want to define a full-fledged function using def. They are commonly used with higher-order functions like map(), filter(), and reduce(), or in cases where you need to pass a function as an argument to another function.\n",
        "\n",
        "For instance:\n",
        "\n",
        "# Using lambda with map()\n",
        "numbers = [1, 2, 3, 4, 5]\n",
        "squared = list(map(lambda x: x**2, numbers))\n",
        "print(squared)  # Output will be [1, 4, 9, 16, 25]\n",
        "This lambda function squares each element in the numbers list when used with map().\n",
        "\n",
        "Remember that while lambda functions can be useful for simple operations, it's often recommended to use\n",
        " regular functions for more complex logic to improve readability and maintainability."
      ],
      "metadata": {
        "id": "QXe_f3nXOInE"
      },
      "execution_count": null,
      "outputs": []
    },
    {
      "cell_type": "code",
      "source": [
        "x = lambda a : a + 10\n",
        "print(x(15))\n"
      ],
      "metadata": {
        "colab": {
          "base_uri": "https://localhost:8080/"
        },
        "id": "8XO2mIjTObaG",
        "outputId": "7ba1cc7d-3cc1-4b9b-9ad0-027e4a2a6b78"
      },
      "execution_count": null,
      "outputs": [
        {
          "output_type": "stream",
          "name": "stdout",
          "text": [
            "25\n"
          ]
        }
      ]
    },
    {
      "cell_type": "code",
      "source": [
        "x = lambda a, b : a * b\n",
        "print(x(20, 23))"
      ],
      "metadata": {
        "colab": {
          "base_uri": "https://localhost:8080/"
        },
        "id": "UFYkhAKNOf4K",
        "outputId": "53ef00bc-acd6-4cfc-d31e-143879bfe20d"
      },
      "execution_count": null,
      "outputs": [
        {
          "output_type": "stream",
          "name": "stdout",
          "text": [
            "460\n"
          ]
        }
      ]
    },
    {
      "cell_type": "code",
      "source": [
        "x = lambda a, b, c : a + b - c\n",
        "print(x(12,24,36))"
      ],
      "metadata": {
        "colab": {
          "base_uri": "https://localhost:8080/"
        },
        "id": "sPD4S0nVOh9u",
        "outputId": "137d505c-09d7-46e0-c4d0-cd1c291af728"
      },
      "execution_count": null,
      "outputs": [
        {
          "output_type": "stream",
          "name": "stdout",
          "text": [
            "0\n"
          ]
        }
      ]
    },
    {
      "cell_type": "code",
      "source": [
        "x = lambda a, b, c, d : a + b - c * d\n",
        "print(x(12,24,36,48))"
      ],
      "metadata": {
        "colab": {
          "base_uri": "https://localhost:8080/"
        },
        "id": "syDuYl96Ok2Q",
        "outputId": "b3af0e14-6100-48d3-9a91-42c0e2851a2d"
      },
      "execution_count": null,
      "outputs": [
        {
          "output_type": "stream",
          "name": "stdout",
          "text": [
            "-1692\n"
          ]
        }
      ]
    }
  ]
}