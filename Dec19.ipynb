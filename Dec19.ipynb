{
  "nbformat": 4,
  "nbformat_minor": 0,
  "metadata": {
    "colab": {
      "provenance": [],
      "authorship_tag": "ABX9TyOMYrA/N+lqlNQ+opyDXqid",
      "include_colab_link": true
    },
    "kernelspec": {
      "name": "python3",
      "display_name": "Python 3"
    },
    "language_info": {
      "name": "python"
    }
  },
  "cells": [
    {
      "cell_type": "markdown",
      "metadata": {
        "id": "view-in-github",
        "colab_type": "text"
      },
      "source": [
        "<a href=\"https://colab.research.google.com/github/surendra3474/takeobds41/blob/main/Dec19.ipynb\" target=\"_parent\"><img src=\"https://colab.research.google.com/assets/colab-badge.svg\" alt=\"Open In Colab\"/></a>"
      ]
    },
    {
      "cell_type": "code",
      "execution_count": 13,
      "metadata": {
        "colab": {
          "base_uri": "https://localhost:8080/"
        },
        "id": "vZaKdQbk1fwg",
        "outputId": "3cf86a7b-d67d-4f4e-d52e-d3e3ff323c89"
      },
      "outputs": [
        {
          "output_type": "stream",
          "name": "stdout",
          "text": [
            "<class '__main__.macbookpro25'>\n"
          ]
        }
      ],
      "source": [
        "obj1_macbookpro25 =macbookpro25()\n",
        "print(type(obj1_macbookpro25))"
      ]
    },
    {
      "cell_type": "code",
      "source": [
        "obj11_macbookpro25 = macbookpro25()\n",
        "obj12_macbookpro25 = macbookpro25()\n",
        "obj13_macbookpro25 = macbookpro25()\n",
        "obj14_macbookpro25 = macbookpro25()\n",
        "\n",
        "\n",
        "\n"
      ],
      "metadata": {
        "id": "47Q73Dem7VHD"
      },
      "execution_count": 15,
      "outputs": []
    },
    {
      "cell_type": "code",
      "source": [
        "print(type(obj11_macbookpro25))\n",
        "print(type(obj12_macbookpro25))\n",
        "print(type(obj13_macbookpro25))\n",
        "print(type(obj14_macbookpro25))"
      ],
      "metadata": {
        "colab": {
          "base_uri": "https://localhost:8080/"
        },
        "id": "O9vLm6z797wj",
        "outputId": "6d717704-9abd-473c-8732-4a2bbd787c06"
      },
      "execution_count": 17,
      "outputs": [
        {
          "output_type": "stream",
          "name": "stdout",
          "text": [
            "<class '__main__.macbookpro25'>\n",
            "<class '__main__.macbookpro25'>\n",
            "<class '__main__.macbookpro25'>\n",
            "<class '__main__.macbookpro25'>\n"
          ]
        }
      ]
    },
    {
      "cell_type": "code",
      "source": [
        "class macbookpro25:\n",
        "    os='io'\n",
        "    ram=64\n",
        "    processor='x10'\n",
        "    space='5gb'"
      ],
      "metadata": {
        "id": "1C1l2z4z5l5j"
      },
      "execution_count": 19,
      "outputs": []
    },
    {
      "cell_type": "code",
      "source": [
        "obj11_macbookpro25.64"
      ],
      "metadata": {
        "colab": {
          "base_uri": "https://localhost:8080/",
          "height": 141
        },
        "id": "3GHeXVlP5dae",
        "outputId": "3f6e4419-269b-45db-8aea-b4507d6f9086"
      },
      "execution_count": 21,
      "outputs": [
        {
          "output_type": "error",
          "ename": "SyntaxError",
          "evalue": "ignored",
          "traceback": [
            "\u001b[0;36m  File \u001b[0;32m\"<ipython-input-21-00927e671819>\"\u001b[0;36m, line \u001b[0;32m1\u001b[0m\n\u001b[0;31m    obj11_macbookpro25.64\u001b[0m\n\u001b[0m                      ^\u001b[0m\n\u001b[0;31mSyntaxError\u001b[0m\u001b[0;31m:\u001b[0m invalid syntax\n"
          ]
        }
      ]
    }
  ]
}